{
  "cells": [
    {
      "cell_type": "markdown",
      "metadata": {
        "id": "view-in-github",
        "colab_type": "text"
      },
      "source": [
        "<a href=\"https://colab.research.google.com/github/MellMatsuda/Chatbacana/blob/main/Chatbacana.ipynb\" target=\"_parent\"><img src=\"https://colab.research.google.com/assets/colab-badge.svg\" alt=\"Open In Colab\"/></a>"
      ]
    },
    {
      "cell_type": "markdown",
      "source": [
        "# Chatbacana com Banco de Conhecimento em JSON 😎"
      ],
      "metadata": {
        "id": "nq3WOaXeW3de"
      },
      "id": "nq3WOaXeW3de"
    },
    {
      "cell_type": "code",
      "execution_count": 40,
      "id": "33bdb39f",
      "metadata": {
        "id": "33bdb39f"
      },
      "outputs": [],
      "source": [
        "import json\n",
        "from difflib import get_close_matches"
      ]
    },
    {
      "cell_type": "code",
      "source": [
        "def carregarconhecimento(file_path: str) -> dict:\n",
        "  with open(file_path, 'r') as file:\n",
        "    data: dict = json.load(file)\n",
        "  return data\n",
        "\n",
        "def salvarconhecimento(file_path: str, data: dict):\n",
        "  with open(file_path, 'w') as file:\n",
        "    json.dump(data, file, indent=2)\n",
        "\n",
        "def identifica_melhor(user_question: str, perguntas: list[str]) -> str | None:\n",
        "  matches: list = get_close_matches(user_question, perguntas, n=1, cutoff=0.5)\n",
        "  return matches[0] if matches else None\n",
        "\n",
        "def resposta_para_pergunta(pergunta: str, base_conhecimento: dict) -> str | None:\n",
        "  for q in base_conhecimento[\"perguntas\"]:\n",
        "    if q[\"pergunta\"] == pergunta:\n",
        "      return q[\"resposta\"]\n",
        "\n",
        "def chat_bot():\n",
        "  # ADICIONAR CAMINHO JSON\n",
        "  base_conhecimento: dict = carregarconhecimento('Base_de_conhecimento.json')\n",
        "  print(\"Bot: Olá, eu sou o Chatbacana, como eu posso te ajudar?\\n     Escreva sua pergunta ou digite SAIR para encerrar a sessão.\")\n",
        "\n",
        "  while True:\n",
        "    user_input: str = input('\\nVocê: ')\n",
        "\n",
        "    if user_input.lower() == \"sair\":\n",
        "      print(\"\\nBot: Tchau! Se tiver mais perguntas no futuro ou precisar de ajuda, não hesite em voltar. Tenha um ótimo dia!\")\n",
        "      break\n",
        "\n",
        "    melhor_resposta: str | None = identifica_melhor(user_input, [q[\"pergunta\"] for q in base_conhecimento[\"perguntas\"]])\n",
        "\n",
        "    if melhor_resposta:\n",
        "      answer: str = resposta_para_pergunta(melhor_resposta, base_conhecimento)\n",
        "      print(f'\\nBot: {answer}')\n",
        "    else:\n",
        "      print('\\nBot: Sinto muito, eu não sei a resposta, você poderia me ensinar?')\n",
        "      new_answer: str = input('     Acrescente uma resposta à base de conhecimento ou digite PULAR para continuar.\\n\\nVocê: ')\n",
        "\n",
        "      if new_answer.lower() != 'pular':\n",
        "        base_conhecimento[\"perguntas\"].append({\"pergunta\": user_input, \"resposta\": new_answer})\n",
        "\n",
        "        # ADICIONAR CAMINHO JSON\n",
        "        salvarconhecimento('Base_de_conhecimento.json', base_conhecimento)\n",
        "        print('\\nBot: Muito obrigado, aprendi algo novo!')\n",
        "      else:\n",
        "        print('\\nBot: Você pulou o aprendizado, insira uma pergunta.')"
      ],
      "metadata": {
        "id": "jgxILZsKXLzz"
      },
      "id": "jgxILZsKXLzz",
      "execution_count": 88,
      "outputs": []
    },
    {
      "cell_type": "code",
      "execution_count": 92,
      "id": "51f084e2",
      "metadata": {
        "scrolled": false,
        "colab": {
          "base_uri": "https://localhost:8080/",
          "height": 355
        },
        "id": "51f084e2",
        "outputId": "2c003a62-395e-43f1-bfc0-9409a53bb4d8"
      },
      "outputs": [
        {
          "output_type": "stream",
          "name": "stdout",
          "text": [
            "Bot: Olá, eu sou o Chatbacana, como eu posso te ajudar?\n",
            "     Escreva sua pergunta ou digite SAIR para encerrar a sessão.\n"
          ]
        },
        {
          "output_type": "error",
          "ename": "KeyboardInterrupt",
          "evalue": "ignored",
          "traceback": [
            "\u001b[0;31m---------------------------------------------------------------------------\u001b[0m",
            "\u001b[0;31mKeyboardInterrupt\u001b[0m                         Traceback (most recent call last)",
            "\u001b[0;32m<ipython-input-92-ae7eaa4ff801>\u001b[0m in \u001b[0;36m<cell line: 1>\u001b[0;34m()\u001b[0m\n\u001b[0;32m----> 1\u001b[0;31m \u001b[0mchat_bot\u001b[0m\u001b[0;34m(\u001b[0m\u001b[0;34m)\u001b[0m\u001b[0;34m\u001b[0m\u001b[0;34m\u001b[0m\u001b[0m\n\u001b[0m",
            "\u001b[0;32m<ipython-input-88-1c849ca7927d>\u001b[0m in \u001b[0;36mchat_bot\u001b[0;34m()\u001b[0m\n\u001b[1;32m     23\u001b[0m \u001b[0;34m\u001b[0m\u001b[0m\n\u001b[1;32m     24\u001b[0m   \u001b[0;32mwhile\u001b[0m \u001b[0;32mTrue\u001b[0m\u001b[0;34m:\u001b[0m\u001b[0;34m\u001b[0m\u001b[0;34m\u001b[0m\u001b[0m\n\u001b[0;32m---> 25\u001b[0;31m     \u001b[0muser_input\u001b[0m\u001b[0;34m:\u001b[0m \u001b[0mstr\u001b[0m \u001b[0;34m=\u001b[0m \u001b[0minput\u001b[0m\u001b[0;34m(\u001b[0m\u001b[0;34m'\\nVocê: '\u001b[0m\u001b[0;34m)\u001b[0m\u001b[0;34m\u001b[0m\u001b[0;34m\u001b[0m\u001b[0m\n\u001b[0m\u001b[1;32m     26\u001b[0m \u001b[0;34m\u001b[0m\u001b[0m\n\u001b[1;32m     27\u001b[0m     \u001b[0;32mif\u001b[0m \u001b[0muser_input\u001b[0m\u001b[0;34m.\u001b[0m\u001b[0mlower\u001b[0m\u001b[0;34m(\u001b[0m\u001b[0;34m)\u001b[0m \u001b[0;34m==\u001b[0m \u001b[0;34m\"sair\"\u001b[0m\u001b[0;34m:\u001b[0m\u001b[0;34m\u001b[0m\u001b[0;34m\u001b[0m\u001b[0m\n",
            "\u001b[0;32m/usr/local/lib/python3.10/dist-packages/ipykernel/kernelbase.py\u001b[0m in \u001b[0;36mraw_input\u001b[0;34m(self, prompt)\u001b[0m\n\u001b[1;32m    849\u001b[0m                 \u001b[0;34m\"raw_input was called, but this frontend does not support input requests.\"\u001b[0m\u001b[0;34m\u001b[0m\u001b[0;34m\u001b[0m\u001b[0m\n\u001b[1;32m    850\u001b[0m             )\n\u001b[0;32m--> 851\u001b[0;31m         return self._input_request(str(prompt),\n\u001b[0m\u001b[1;32m    852\u001b[0m             \u001b[0mself\u001b[0m\u001b[0;34m.\u001b[0m\u001b[0m_parent_ident\u001b[0m\u001b[0;34m,\u001b[0m\u001b[0;34m\u001b[0m\u001b[0;34m\u001b[0m\u001b[0m\n\u001b[1;32m    853\u001b[0m             \u001b[0mself\u001b[0m\u001b[0;34m.\u001b[0m\u001b[0m_parent_header\u001b[0m\u001b[0;34m,\u001b[0m\u001b[0;34m\u001b[0m\u001b[0;34m\u001b[0m\u001b[0m\n",
            "\u001b[0;32m/usr/local/lib/python3.10/dist-packages/ipykernel/kernelbase.py\u001b[0m in \u001b[0;36m_input_request\u001b[0;34m(self, prompt, ident, parent, password)\u001b[0m\n\u001b[1;32m    893\u001b[0m             \u001b[0;32mexcept\u001b[0m \u001b[0mKeyboardInterrupt\u001b[0m\u001b[0;34m:\u001b[0m\u001b[0;34m\u001b[0m\u001b[0;34m\u001b[0m\u001b[0m\n\u001b[1;32m    894\u001b[0m                 \u001b[0;31m# re-raise KeyboardInterrupt, to truncate traceback\u001b[0m\u001b[0;34m\u001b[0m\u001b[0;34m\u001b[0m\u001b[0m\n\u001b[0;32m--> 895\u001b[0;31m                 \u001b[0;32mraise\u001b[0m \u001b[0mKeyboardInterrupt\u001b[0m\u001b[0;34m(\u001b[0m\u001b[0;34m\"Interrupted by user\"\u001b[0m\u001b[0;34m)\u001b[0m \u001b[0;32mfrom\u001b[0m \u001b[0;32mNone\u001b[0m\u001b[0;34m\u001b[0m\u001b[0;34m\u001b[0m\u001b[0m\n\u001b[0m\u001b[1;32m    896\u001b[0m             \u001b[0;32mexcept\u001b[0m \u001b[0mException\u001b[0m \u001b[0;32mas\u001b[0m \u001b[0me\u001b[0m\u001b[0;34m:\u001b[0m\u001b[0;34m\u001b[0m\u001b[0;34m\u001b[0m\u001b[0m\n\u001b[1;32m    897\u001b[0m                 \u001b[0mself\u001b[0m\u001b[0;34m.\u001b[0m\u001b[0mlog\u001b[0m\u001b[0;34m.\u001b[0m\u001b[0mwarning\u001b[0m\u001b[0;34m(\u001b[0m\u001b[0;34m\"Invalid Message:\"\u001b[0m\u001b[0;34m,\u001b[0m \u001b[0mexc_info\u001b[0m\u001b[0;34m=\u001b[0m\u001b[0;32mTrue\u001b[0m\u001b[0;34m)\u001b[0m\u001b[0;34m\u001b[0m\u001b[0;34m\u001b[0m\u001b[0m\n",
            "\u001b[0;31mKeyboardInterrupt\u001b[0m: Interrupted by user"
          ]
        }
      ],
      "source": [
        "chat_bot()"
      ]
    }
  ],
  "metadata": {
    "kernelspec": {
      "display_name": "Python 3 (ipykernel)",
      "language": "python",
      "name": "python3"
    },
    "language_info": {
      "codemirror_mode": {
        "name": "ipython",
        "version": 3
      },
      "file_extension": ".py",
      "mimetype": "text/x-python",
      "name": "python",
      "nbconvert_exporter": "python",
      "pygments_lexer": "ipython3",
      "version": "3.11.4"
    },
    "colab": {
      "provenance": [],
      "include_colab_link": true
    }
  },
  "nbformat": 4,
  "nbformat_minor": 5
}
